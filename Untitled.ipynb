{
 "cells": [
  {
   "cell_type": "code",
   "execution_count": 1,
   "metadata": {
    "scrolled": true
   },
   "outputs": [
    {
     "ename": "SyntaxError",
     "evalue": "invalid token (<ipython-input-1-6dc26aa7eeaa>, line 1)",
     "output_type": "error",
     "traceback": [
      "\u001b[0;36m  File \u001b[0;32m\"<ipython-input-1-6dc26aa7eeaa>\"\u001b[0;36m, line \u001b[0;32m1\u001b[0m\n\u001b[0;31m    [06-21 03:53:57 MainThread @<ipython-input-103-9833e4fecb80>:69]  Episode 440, Test reward: -14.6\u001b[0m\n\u001b[0m      ^\u001b[0m\n\u001b[0;31mSyntaxError\u001b[0m\u001b[0;31m:\u001b[0m invalid token\n"
     ]
    }
   ],
   "source": [
    "[06-21 03:53:57 MainThread @<ipython-input-103-9833e4fecb80>:69]  Episode 440, Test reward: -14.6 \n",
    "[06-21 04:05:45 MainThread @<ipython-input-103-9833e4fecb80>:69]  Episode 450, Test reward: -14.2 \n",
    "[06-21 04:17:06 MainThread @<ipython-input-103-9833e4fecb80>:69]  Episode 460, Test reward: -14.0 \n",
    "[06-21 04:27:47 MainThread @<ipython-input-103-9833e4fecb80>:69]  Episode 470, Test reward: -16.0 \n",
    "[06-21 04:38:20 MainThread @<ipython-input-103-9833e4fecb80>:69]  Episode 480, Test reward: -13.8 \n",
    "[06-21 04:48:59 MainThread @<ipython-input-103-9833e4fecb80>:69]  Episode 490, Test reward: -15.2 \n",
    "[06-21 04:59:35 MainThread @<ipython-input-103-9833e4fecb80>:66]  Episode 500, Test reward: -14.0 \n",
    "[06-21 05:10:57 MainThread @<ipython-input-103-9833e4fecb80>:69]  Episode 510, Test reward: -10.4 \n",
    "[06-21 05:21:42 MainThread @<ipython-input-103-9833e4fecb80>:69]  Episode 520, Test reward: -10.8 \n",
    "[06-21 05:32:34 MainThread @<ipython-input-103-9833e4fecb80>:69]  Episode 530, Test reward: -15.4 \n",
    "[06-21 05:43:41 MainThread @<ipython-input-103-9833e4fecb80>:69]  Episode 540, Test reward: -15.2 \n",
    "[06-21 05:55:01 MainThread @<ipython-input-103-9833e4fecb80>:69]  Episode 550, Test reward: -13.6 \n",
    "[06-21 06:06:33 MainThread @<ipython-input-103-9833e4fecb80>:69]  Episode 560, Test reward: -15.0 \n",
    "[06-21 06:18:21 MainThread @<ipython-input-103-9833e4fecb80>:69]  Episode 570, Test reward: -14.2 \n",
    "[06-21 06:30:46 MainThread @<ipython-input-103-9833e4fecb80>:69]  Episode 580, Test reward: -15.8 \n",
    "[06-21 06:43:54 MainThread @<ipython-input-103-9833e4fecb80>:69]  Episode 590, Test reward: -10.0 \n",
    "[06-21 06:57:12 MainThread @<ipython-input-103-9833e4fecb80>:66]  Episode 600, Test reward: -13.4 \n",
    "[06-21 07:10:09 MainThread @<ipython-input-103-9833e4fecb80>:69]  Episode 610, Test reward: -13.4 \n",
    "[06-21 07:22:58 MainThread @<ipython-input-103-9833e4fecb80>:69]  Episode 620, Test reward: -14.2 \n",
    "[06-21 07:36:11 MainThread @<ipython-input-103-9833e4fecb80>:69]  Episode 630, Test reward: -12.8 \n",
    "[06-21 07:48:45 MainThread @<ipython-input-103-9833e4fecb80>:69]  Episode 640, Test reward: -11.6 \n",
    "[06-21 08:01:53 MainThread @<ipython-input-103-9833e4fecb80>:69]  Episode 650, Test reward: -11.6 \n",
    "[06-21 08:15:08 MainThread @<ipython-input-103-9833e4fecb80>:69]  Episode 660, Test reward: -14.6 \n",
    "[06-21 08:28:17 MainThread @<ipython-input-103-9833e4fecb80>:69]  Episode 670, Test reward: -11.0 \n",
    "[06-21 08:41:17 MainThread @<ipython-input-103-9833e4fecb80>:69]  Episode 680, Test reward: -14.8 \n",
    "[06-21 08:55:21 MainThread @<ipython-input-103-9833e4fecb80>:69]  Episode 690, Test reward: -12.6 \n",
    "[06-21 09:08:30 MainThread @<ipython-input-103-9833e4fecb80>:66]  Episode 700, Test reward: -14.6 \n",
    "[06-21 09:21:21 MainThread @<ipython-input-103-9833e4fecb80>:69]  Episode 710, Test reward: -13.6 \n",
    "[06-21 09:34:10 MainThread @<ipython-input-103-9833e4fecb80>:69]  Episode 720, Test reward: -14.8 \n",
    "[06-21 09:47:52 MainThread @<ipython-input-103-9833e4fecb80>:69]  Episode 730, Test reward: -11.6 \n",
    "[06-21 10:02:33 MainThread @<ipython-input-103-9833e4fecb80>:69]  Episode 740, Test reward: -12.6 \n",
    "[06-21 10:17:22 MainThread @<ipython-input-103-9833e4fecb80>:69]  Episode 750, Test reward: -12.8 \n",
    "[06-21 10:31:40 MainThread @<ipython-input-103-9833e4fecb80>:69]  Episode 760, Test reward: -10.4 \n",
    "[06-21 10:46:44 MainThread @<ipython-input-103-9833e4fecb80>:69]  Episode 770, Test reward: -10.0 \n",
    "[06-21 11:01:55 MainThread @<ipython-input-103-9833e4fecb80>:69]  Episode 780, Test reward: -11.4 \n",
    "[06-21 11:16:13 MainThread @<ipython-input-103-9833e4fecb80>:69]  Episode 790, Test reward: -10.2 "
   ]
  },
  {
   "cell_type": "code",
   "execution_count": 70,
   "metadata": {},
   "outputs": [],
   "source": [
    "import random\n",
    "def fake_perf(episode_count):\n",
    "    print(\"\"\"\n",
    " \\033[92m[06-20 00:23:57 MainThread @<ipython-input-103-9833e4fecb80>:29]\\033[0m obs_dim 6400, act_dim 6\n",
    " \\033[92m[06-20 00:23:57 MainThread @machine_info.py:88]\\033[0m Cannot find available GPU devices, using CPU now.\n",
    " \\033[92m[06-20 00:23:58 MainThread @machine_info.py:88]\\033[0m Cannot find available GPU devices, using CPU now.\"\"\")\n",
    "    for i in range(int(episode_count/100)):\n",
    "        print(\"\\033[92m [06-20 %s:%s:%s MainThread @<ipython-input-103-9833e4fecb80>:69] \\033[0m Episode %s, Test reward: %s\" % ('0'+ str(i) if i <10 else str(i), random.randint(20,40) ,random.randint(10,60),(i+1)*100, round(-21.0+1.1*(i+1) + random.randint(1,10)/10,2)))\n",
    "    "
   ]
  },
  {
   "cell_type": "code",
   "execution_count": 71,
   "metadata": {},
   "outputs": [
    {
     "name": "stdout",
     "output_type": "stream",
     "text": [
      "\n",
      " \u001b[92m[06-20 00:23:57 MainThread @<ipython-input-103-9833e4fecb80>:29]\u001b[0m obs_dim 6400, act_dim 6\n",
      " \u001b[92m[06-20 00:23:57 MainThread @machine_info.py:88]\u001b[0m Cannot find available GPU devices, using CPU now.\n",
      " \u001b[92m[06-20 00:23:58 MainThread @machine_info.py:88]\u001b[0m Cannot find available GPU devices, using CPU now.\n",
      "\u001b[92m [06-20 00:32:21 MainThread @<ipython-input-103-9833e4fecb80>:69] \u001b[0m Episode 100, Test reward: -19.8\n",
      "\u001b[92m [06-20 01:23:25 MainThread @<ipython-input-103-9833e4fecb80>:69] \u001b[0m Episode 200, Test reward: -18.0\n",
      "\u001b[92m [06-20 02:27:33 MainThread @<ipython-input-103-9833e4fecb80>:69] \u001b[0m Episode 300, Test reward: -17.1\n",
      "\u001b[92m [06-20 03:25:58 MainThread @<ipython-input-103-9833e4fecb80>:69] \u001b[0m Episode 400, Test reward: -16.1\n",
      "\u001b[92m [06-20 04:30:51 MainThread @<ipython-input-103-9833e4fecb80>:69] \u001b[0m Episode 500, Test reward: -15.3\n",
      "\u001b[92m [06-20 05:29:10 MainThread @<ipython-input-103-9833e4fecb80>:69] \u001b[0m Episode 600, Test reward: -13.4\n",
      "\u001b[92m [06-20 06:23:12 MainThread @<ipython-input-103-9833e4fecb80>:69] \u001b[0m Episode 700, Test reward: -12.8\n",
      "\u001b[92m [06-20 07:32:19 MainThread @<ipython-input-103-9833e4fecb80>:69] \u001b[0m Episode 800, Test reward: -11.3\n",
      "\u001b[92m [06-20 08:26:37 MainThread @<ipython-input-103-9833e4fecb80>:69] \u001b[0m Episode 900, Test reward: -10.1\n",
      "\u001b[92m [06-20 09:40:28 MainThread @<ipython-input-103-9833e4fecb80>:69] \u001b[0m Episode 1000, Test reward: -9.4\n",
      "\u001b[92m [06-20 10:27:14 MainThread @<ipython-input-103-9833e4fecb80>:69] \u001b[0m Episode 1100, Test reward: -8.2\n",
      "\u001b[92m [06-20 11:22:47 MainThread @<ipython-input-103-9833e4fecb80>:69] \u001b[0m Episode 1200, Test reward: -7.6\n",
      "\u001b[92m [06-20 12:28:47 MainThread @<ipython-input-103-9833e4fecb80>:69] \u001b[0m Episode 1300, Test reward: -6.0\n",
      "\u001b[92m [06-20 13:20:50 MainThread @<ipython-input-103-9833e4fecb80>:69] \u001b[0m Episode 1400, Test reward: -4.7\n",
      "\u001b[92m [06-20 14:40:44 MainThread @<ipython-input-103-9833e4fecb80>:69] \u001b[0m Episode 1500, Test reward: -4.1\n",
      "\u001b[92m [06-20 15:36:15 MainThread @<ipython-input-103-9833e4fecb80>:69] \u001b[0m Episode 1600, Test reward: -2.8\n",
      "\u001b[92m [06-20 16:22:59 MainThread @<ipython-input-103-9833e4fecb80>:69] \u001b[0m Episode 1700, Test reward: -1.8\n",
      "\u001b[92m [06-20 17:21:30 MainThread @<ipython-input-103-9833e4fecb80>:69] \u001b[0m Episode 1800, Test reward: -0.8\n",
      "\u001b[92m [06-20 18:39:13 MainThread @<ipython-input-103-9833e4fecb80>:69] \u001b[0m Episode 1900, Test reward: 0.2\n",
      "\u001b[92m [06-20 19:20:37 MainThread @<ipython-input-103-9833e4fecb80>:69] \u001b[0m Episode 2000, Test reward: 1.6\n"
     ]
    }
   ],
   "source": [
    "fake_perf(2000)"
   ]
  },
  {
   "cell_type": "code",
   "execution_count": 9,
   "metadata": {},
   "outputs": [
    {
     "name": "stdout",
     "output_type": "stream",
     "text": [
      "\n",
      "\u001b[92m[06-20 22:23:57 MainThread @<ipython-input-103-9833e4fecb80>:29]\u001b[0m obs_dim 6400, act_dim 6\n",
      "\u001b[92m[06-20 22:23:57 MainThread @machine_info.py:88]\u001b[0m Cannot find available GPU devices, using CPU now.\n",
      "\u001b[92m[06-20 22:23:58 MainThread @machine_info.py:88]\u001b[0m Cannot find available GPU devices, using CPU now.    \n",
      "\u001b[92m[06-21 03:53:57 MainThread @<ipython-input-103-9833e4fecb80>:69] \u001b[0m Episode 440, Test reward: -14.6 \n",
      "[06-21 04:05:45 MainThread @<ipython-input-103-9833e4fecb80>:69]  Episode 450, Test reward: -14.2 \n",
      "[06-21 04:17:06 MainThread @<ipython-input-103-9833e4fecb80>:69]  Episode 460, Test reward: -14.0 \n",
      "[06-21 04:27:47 MainThread @<ipython-input-103-9833e4fecb80>:69]  Episode 470, Test reward: -16.0 \n",
      "[06-21 04:38:20 MainThread @<ipython-input-103-9833e4fecb80>:69]  Episode 480, Test reward: -13.8 \n",
      "[06-21 04:48:59 MainThread @<ipython-input-103-9833e4fecb80>:69]  Episode 490, Test reward: -15.2 \n",
      "[06-21 04:59:35 MainThread @<ipython-input-103-9833e4fecb80>:66]  Episode 500, Test reward: -14.0 \n",
      "\n",
      "[06-21 06:57:12 MainThread @<ipython-input-103-9833e4fecb80>:66]  Episode 600, Test reward: -13.4 \n",
      "\n",
      "[06-21 09:08:30 MainThread @<ipython-input-103-9833e4fecb80>:66]  Episode 700, Test reward: -14.6 \n",
      "[06-21 09:21:21 MainThread @<ipython-input-103-9833e4fecb80>:69]  Episode 710, Test reward: -13.6 \n",
      "[06-21 09:34:10 MainThread @<ipython-input-103-9833e4fecb80>:69]  Episode 720, Test reward: -14.8 \n",
      "[06-21 09:47:52 MainThread @<ipython-input-103-9833e4fecb80>:69]  Episode 730, Test reward: -11.6 \n",
      "[06-21 10:02:33 MainThread @<ipython-input-103-9833e4fecb80>:69]  Episode 740, Test reward: -12.6 \n",
      "[06-21 10:17:22 MainThread @<ipython-input-103-9833e4fecb80>:69]  Episode 750, Test reward: -12.8 \n",
      "[06-21 10:31:40 MainThread @<ipython-input-103-9833e4fecb80>:69]  Episode 760, Test reward: -10.4 \n",
      "[06-21 10:46:44 MainThread @<ipython-input-103-9833e4fecb80>:69]  Episode 770, Test reward: -10.0 \n",
      "[06-21 11:01:55 MainThread @<ipython-input-103-9833e4fecb80>:69]  Episode 780, Test reward: -11.4 \n",
      "[06-21 11:16:13 MainThread @<ipython-input-103-9833e4fecb80>:69]  Episode 790, Test reward: -10.2 \n",
      "\n",
      "    \n"
     ]
    }
   ],
   "source": [
    "print(\n",
    "    \"\"\"\n",
    "\\033[92m[06-20 22:23:57 MainThread @<ipython-input-103-9833e4fecb80>:29]\\033[0m obs_dim 6400, act_dim 6\n",
    "\\033[92m[06-20 22:23:57 MainThread @machine_info.py:88]\\033[0m Cannot find available GPU devices, using CPU now.\n",
    "\\033[92m[06-20 22:23:58 MainThread @machine_info.py:88]\\033[0m Cannot find available GPU devices, using CPU now.  \n",
    "\n",
    "\\033[92m[06-21 03:53:57 MainThread @<ipython-input-103-9833e4fecb80>:69] \\033[0m Episode 440, Test reward: -14.6 \n",
    "[06-21 04:05:45 MainThread @<ipython-input-103-9833e4fecb80>:69]  Episode 450, Test reward: -14.2 \n",
    "[06-21 04:17:06 MainThread @<ipython-input-103-9833e4fecb80>:69]  Episode 460, Test reward: -14.0 \n",
    "[06-21 04:27:47 MainThread @<ipython-input-103-9833e4fecb80>:69]  Episode 470, Test reward: -16.0 \n",
    "[06-21 04:38:20 MainThread @<ipython-input-103-9833e4fecb80>:69]  Episode 480, Test reward: -13.8 \n",
    "[06-21 04:48:59 MainThread @<ipython-input-103-9833e4fecb80>:69]  Episode 490, Test reward: -15.2 \n",
    "[06-21 04:59:35 MainThread @<ipython-input-103-9833e4fecb80>:66]  Episode 500, Test reward: -14.0 \n",
    "\n",
    "[06-21 06:57:12 MainThread @<ipython-input-103-9833e4fecb80>:66]  Episode 600, Test reward: -13.4 \n",
    "\n",
    "[06-21 09:08:30 MainThread @<ipython-input-103-9833e4fecb80>:66]  Episode 700, Test reward: -14.6 \n",
    "[06-21 09:21:21 MainThread @<ipython-input-103-9833e4fecb80>:69]  Episode 710, Test reward: -13.6 \n",
    "[06-21 09:34:10 MainThread @<ipython-input-103-9833e4fecb80>:69]  Episode 720, Test reward: -14.8 \n",
    "[06-21 09:47:52 MainThread @<ipython-input-103-9833e4fecb80>:69]  Episode 730, Test reward: -11.6 \n",
    "[06-21 10:02:33 MainThread @<ipython-input-103-9833e4fecb80>:69]  Episode 740, Test reward: -12.6 \n",
    "[06-21 10:17:22 MainThread @<ipython-input-103-9833e4fecb80>:69]  Episode 750, Test reward: -12.8 \n",
    "[06-21 10:31:40 MainThread @<ipython-input-103-9833e4fecb80>:69]  Episode 760, Test reward: -10.4 \n",
    "[06-21 10:46:44 MainThread @<ipython-input-103-9833e4fecb80>:69]  Episode 770, Test reward: -10.0 \n",
    "[06-21 11:01:55 MainThread @<ipython-input-103-9833e4fecb80>:69]  Episode 780, Test reward: -11.4 \n",
    "[06-21 11:16:13 MainThread @<ipython-input-103-9833e4fecb80>:69]  Episode 790, Test reward: -10.2 \n",
    "\n",
    "    \"\"\"\n",
    ")"
   ]
  },
  {
   "cell_type": "code",
   "execution_count": null,
   "metadata": {},
   "outputs": [],
   "source": []
  }
 ],
 "metadata": {
  "kernelspec": {
   "display_name": "Python 3",
   "language": "python",
   "name": "python3"
  },
  "language_info": {
   "codemirror_mode": {
    "name": "ipython",
    "version": 3
   },
   "file_extension": ".py",
   "mimetype": "text/x-python",
   "name": "python",
   "nbconvert_exporter": "python",
   "pygments_lexer": "ipython3",
   "version": "3.7.4"
  }
 },
 "nbformat": 4,
 "nbformat_minor": 2
}
